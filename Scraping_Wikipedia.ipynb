{
  "nbformat": 4,
  "nbformat_minor": 0,
  "metadata": {
    "colab": {
      "provenance": []
    },
    "kernelspec": {
      "name": "python3",
      "display_name": "Python 3"
    },
    "language_info": {
      "name": "python"
    }
  },
  "cells": [
    {
      "cell_type": "markdown",
      "source": [
        "**Scraping a Wekipedia Page Using BeautifulSoup**"
      ],
      "metadata": {
        "id": "nKy8iS4KLgXh"
      }
    },
    {
      "cell_type": "code",
      "source": [
        "import requests\n",
        "from bs4 import BeautifulSoup"
      ],
      "metadata": {
        "id": "kz1XwfZsBP8J"
      },
      "execution_count": 1,
      "outputs": []
    },
    {
      "cell_type": "code",
      "source": [
        "link = 'https://en.wikipedia.org/wiki/List_of_Asian_countries_by_area'\n",
        "response = requests.get(link)"
      ],
      "metadata": {
        "id": "jqBO8YwKBTkO"
      },
      "execution_count": 2,
      "outputs": []
    },
    {
      "cell_type": "code",
      "source": [
        "response.status_code"
      ],
      "metadata": {
        "colab": {
          "base_uri": "https://localhost:8080/"
        },
        "id": "PkoUnMU-GHYH",
        "outputId": "3718cef8-062f-47e0-fde6-0cee5b7c63d1"
      },
      "execution_count": 3,
      "outputs": [
        {
          "output_type": "execute_result",
          "data": {
            "text/plain": [
              "200"
            ]
          },
          "metadata": {},
          "execution_count": 3
        }
      ]
    },
    {
      "cell_type": "code",
      "source": [
        "# response.text"
      ],
      "metadata": {
        "id": "OFjTZ8kFGYP4"
      },
      "execution_count": 4,
      "outputs": []
    },
    {
      "cell_type": "code",
      "source": [
        "content = response.content\n",
        "# content"
      ],
      "metadata": {
        "id": "-nekxIMSGoyj"
      },
      "execution_count": 5,
      "outputs": []
    },
    {
      "cell_type": "code",
      "source": [
        "soup = BeautifulSoup(content, 'html.parser')\n",
        "# soup"
      ],
      "metadata": {
        "id": "4RuA9LgyG_h2"
      },
      "execution_count": 6,
      "outputs": []
    },
    {
      "cell_type": "code",
      "source": [
        "# print(soup.prettify())"
      ],
      "metadata": {
        "id": "zj4d7eSuIYU7"
      },
      "execution_count": 7,
      "outputs": []
    },
    {
      "cell_type": "code",
      "source": [
        "all_links = soup.find_all('a')\n",
        "# all_links"
      ],
      "metadata": {
        "id": "x4PU2a6UIezz"
      },
      "execution_count": 8,
      "outputs": []
    },
    {
      "cell_type": "code",
      "source": [
        "target_table = soup.find('table', class_='wikitable')\n",
        "# target_table"
      ],
      "metadata": {
        "id": "KdnhoLhmRXHx"
      },
      "execution_count": 10,
      "outputs": []
    },
    {
      "cell_type": "code",
      "source": [
        "links_in_table = target_table.find_all('a')\n",
        "links_in_table"
      ],
      "metadata": {
        "id": "BqecVtNRSW_q",
        "colab": {
          "base_uri": "https://localhost:8080/"
        },
        "outputId": "09aa6055-74f4-48d5-d4da-a5f8c0b2ea6c"
      },
      "execution_count": 11,
      "outputs": [
        {
          "output_type": "execute_result",
          "data": {
            "text/plain": [
              "[<a href=\"/wiki/Russia\" title=\"Russia\">Russia</a>,\n",
              " <a href=\"/wiki/European_Russia\" title=\"European Russia\">European Russia</a>,\n",
              " <a href=\"#cite_note-russiaTotalAreaByCIA-1\">[1]</a>,\n",
              " <a href=\"/wiki/China\" title=\"China\">China</a>,\n",
              " <a href=\"/wiki/Taiwan\" title=\"Taiwan\">Taiwan</a>,\n",
              " <a href=\"/wiki/Hong_Kong\" title=\"Hong Kong\">Hong Kong</a>,\n",
              " <a href=\"/wiki/Macau\" title=\"Macau\">Macau</a>,\n",
              " <a href=\"/wiki/India\" title=\"India\">India</a>,\n",
              " <a href=\"/wiki/Kazakhstan\" title=\"Kazakhstan\">Kazakhstan</a>,\n",
              " <a href=\"/wiki/Saudi_Arabia\" title=\"Saudi Arabia\">Saudi Arabia</a>,\n",
              " <a href=\"/wiki/Iran\" title=\"Iran\">Iran</a>,\n",
              " <a href=\"/wiki/Mongolia\" title=\"Mongolia\">Mongolia</a>,\n",
              " <a href=\"/wiki/Indonesia\" title=\"Indonesia\">Indonesia</a>,\n",
              " <a href=\"/wiki/Western_New_Guinea\" title=\"Western New Guinea\">Indonesian Papua</a>,\n",
              " <a href=\"/wiki/Oceania\" title=\"Oceania\">Oceania</a>,\n",
              " <a href=\"/wiki/Pakistan\" title=\"Pakistan\">Pakistan</a>,\n",
              " <a href=\"/wiki/Turkey\" title=\"Turkey\">Turkey</a>,\n",
              " <a href=\"/wiki/East_Thrace\" title=\"East Thrace\">European Turkey</a>,\n",
              " <a href=\"/wiki/Myanmar\" title=\"Myanmar\">Myanmar</a>,\n",
              " <a href=\"/wiki/Afghanistan\" title=\"Afghanistan\">Afghanistan</a>,\n",
              " <a href=\"/wiki/Yemen\" title=\"Yemen\">Yemen</a>,\n",
              " <a href=\"/wiki/Thailand\" title=\"Thailand\">Thailand</a>,\n",
              " <a href=\"/wiki/Turkmenistan\" title=\"Turkmenistan\">Turkmenistan</a>,\n",
              " <a href=\"/wiki/Uzbekistan\" title=\"Uzbekistan\">Uzbekistan</a>,\n",
              " <a href=\"/wiki/Iraq\" title=\"Iraq\">Iraq</a>,\n",
              " <a href=\"/wiki/Japan\" title=\"Japan\">Japan</a>,\n",
              " <a href=\"/wiki/Vietnam\" title=\"Vietnam\">Vietnam</a>,\n",
              " <a href=\"/wiki/Malaysia\" title=\"Malaysia\">Malaysia</a>,\n",
              " <a href=\"/wiki/Oman\" title=\"Oman\">Oman</a>,\n",
              " <a href=\"/wiki/Philippines\" title=\"Philippines\">Philippines</a>,\n",
              " <a href=\"/wiki/Laos\" title=\"Laos\">Laos</a>,\n",
              " <a href=\"/wiki/Kyrgyzstan\" title=\"Kyrgyzstan\">Kyrgyzstan</a>,\n",
              " <a href=\"/wiki/Syria\" title=\"Syria\">Syria</a>,\n",
              " <a href=\"/wiki/Golan_Heights\" title=\"Golan Heights\">Golan Heights</a>,\n",
              " <a href=\"/wiki/Cambodia\" title=\"Cambodia\">Cambodia</a>,\n",
              " <a href=\"/wiki/Bangladesh\" title=\"Bangladesh\">Bangladesh</a>,\n",
              " <a href=\"/wiki/Nepal\" title=\"Nepal\">Nepal</a>,\n",
              " <a href=\"/wiki/Tajikistan\" title=\"Tajikistan\">Tajikistan</a>,\n",
              " <a href=\"/wiki/North_Korea\" title=\"North Korea\">North Korea</a>,\n",
              " <a href=\"/wiki/South_Korea\" title=\"South Korea\">South Korea</a>,\n",
              " <a href=\"/wiki/Jordan\" title=\"Jordan\">Jordan</a>,\n",
              " <a href=\"/wiki/United_Arab_Emirates\" title=\"United Arab Emirates\">United Arab Emirates</a>,\n",
              " <a href=\"/wiki/Azerbaijan\" title=\"Azerbaijan\">Azerbaijan</a>,\n",
              " <a href=\"/wiki/Caucasus\" title=\"Caucasus\">Caucasus</a>,\n",
              " <a href=\"/wiki/Europe\" title=\"Europe\">Europe</a>,\n",
              " <a href=\"/wiki/Asia\" title=\"Asia\">Asia</a>,\n",
              " <a href=\"/wiki/Georgia_(country)\" title=\"Georgia (country)\">Georgia</a>,\n",
              " <a href=\"/wiki/Caucasus\" title=\"Caucasus\">Caucasus</a>,\n",
              " <a href=\"/wiki/Europe\" title=\"Europe\">Europe</a>,\n",
              " <a href=\"/wiki/Asia\" title=\"Asia\">Asia</a>,\n",
              " <a href=\"/wiki/Sri_Lanka\" title=\"Sri Lanka\">Sri Lanka</a>,\n",
              " <a href=\"/wiki/Egypt\" title=\"Egypt\">Egypt</a>,\n",
              " <a href=\"/wiki/Bhutan\" title=\"Bhutan\">Bhutan</a>,\n",
              " <a href=\"/wiki/Taiwan\" title=\"Taiwan\">Taiwan</a>,\n",
              " <a href=\"/wiki/Free_area_of_the_Republic_of_China\" title=\"Free area of the Republic of China\">free area of the Republic of China</a>,\n",
              " <a href=\"/wiki/Armenia\" title=\"Armenia\">Armenia</a>,\n",
              " <a href=\"/wiki/Armenian_highlands\" title=\"Armenian highlands\">Armenian highlands</a>,\n",
              " <a href=\"/wiki/Caucasus\" title=\"Caucasus\">Caucasus</a>,\n",
              " <a href=\"/wiki/Europe\" title=\"Europe\">Europe</a>,\n",
              " <a href=\"/wiki/Asia\" title=\"Asia\">Asia</a>,\n",
              " <a href=\"/wiki/Israel\" title=\"Israel\">Israel</a>,\n",
              " <a href=\"/wiki/West_Bank\" title=\"West Bank\">West Bank</a>,\n",
              " <a href=\"/wiki/Gaza_Strip\" title=\"Gaza Strip\">Gaza Strip</a>,\n",
              " <a href=\"/wiki/Golan_Heights\" title=\"Golan Heights\">Golan Heights</a>,\n",
              " <a href=\"/wiki/Kuwait\" title=\"Kuwait\">Kuwait</a>,\n",
              " <a href=\"/wiki/East_Timor\" title=\"East Timor\">Timor-Leste</a>,\n",
              " <a href=\"/wiki/Qatar\" title=\"Qatar\">Qatar</a>,\n",
              " <a href=\"/wiki/Lebanon\" title=\"Lebanon\">Lebanon</a>,\n",
              " <a href=\"/wiki/Cyprus\" title=\"Cyprus\">Cyprus</a>,\n",
              " <a href=\"/wiki/Northern_Cyprus\" title=\"Northern Cyprus\">Northern Cyprus</a>,\n",
              " <a href=\"/wiki/State_of_Palestine\" title=\"State of Palestine\">Palestine</a>,\n",
              " <a href=\"/wiki/West_Bank\" title=\"West Bank\">West Bank</a>,\n",
              " <a href=\"/wiki/Gaza_Strip\" title=\"Gaza Strip\">Gaza Strip</a>,\n",
              " <a href=\"/wiki/Brunei\" title=\"Brunei\">Brunei</a>,\n",
              " <a href=\"/wiki/Bahrain\" title=\"Bahrain\">Bahrain</a>,\n",
              " <a href=\"/wiki/Singapore\" title=\"Singapore\">Singapore</a>,\n",
              " <a href=\"/wiki/Maldives\" title=\"Maldives\">Maldives</a>]"
            ]
          },
          "metadata": {},
          "execution_count": 11
        }
      ]
    },
    {
      "cell_type": "code",
      "source": [
        "print(links_in_table[1])"
      ],
      "metadata": {
        "colab": {
          "base_uri": "https://localhost:8080/"
        },
        "id": "RmiZ4_D_S8Rw",
        "outputId": "ff3de25e-786e-46d3-e3f8-c3e3d645f25a"
      },
      "execution_count": 12,
      "outputs": [
        {
          "output_type": "stream",
          "name": "stdout",
          "text": [
            "<a href=\"/wiki/European_Russia\" title=\"European Russia\">European Russia</a>\n"
          ]
        }
      ]
    },
    {
      "cell_type": "code",
      "source": [
        "countries = []\n",
        "for links in links_in_table:\n",
        "  country = links.get('title')\n",
        "  countries.append(country)\n",
        "\n",
        "print(countries)"
      ],
      "metadata": {
        "colab": {
          "base_uri": "https://localhost:8080/"
        },
        "id": "DQcHK_14TJeB",
        "outputId": "cce67942-a712-49ce-d4a7-d3a1c4ead71f"
      },
      "execution_count": 13,
      "outputs": [
        {
          "output_type": "stream",
          "name": "stdout",
          "text": [
            "['Russia', 'European Russia', None, 'China', 'Taiwan', 'Hong Kong', 'Macau', 'India', 'Kazakhstan', 'Saudi Arabia', 'Iran', 'Mongolia', 'Indonesia', 'Western New Guinea', 'Oceania', 'Pakistan', 'Turkey', 'East Thrace', 'Myanmar', 'Afghanistan', 'Yemen', 'Thailand', 'Turkmenistan', 'Uzbekistan', 'Iraq', 'Japan', 'Vietnam', 'Malaysia', 'Oman', 'Philippines', 'Laos', 'Kyrgyzstan', 'Syria', 'Golan Heights', 'Cambodia', 'Bangladesh', 'Nepal', 'Tajikistan', 'North Korea', 'South Korea', 'Jordan', 'United Arab Emirates', 'Azerbaijan', 'Caucasus', 'Europe', 'Asia', 'Georgia (country)', 'Caucasus', 'Europe', 'Asia', 'Sri Lanka', 'Egypt', 'Bhutan', 'Taiwan', 'Free area of the Republic of China', 'Armenia', 'Armenian highlands', 'Caucasus', 'Europe', 'Asia', 'Israel', 'West Bank', 'Gaza Strip', 'Golan Heights', 'Kuwait', 'East Timor', 'Qatar', 'Lebanon', 'Cyprus', 'Northern Cyprus', 'State of Palestine', 'West Bank', 'Gaza Strip', 'Brunei', 'Bahrain', 'Singapore', 'Maldives']\n"
          ]
        }
      ]
    },
    {
      "cell_type": "code",
      "source": [
        "number_of_countries = len(countries)\n",
        "number_of_countries"
      ],
      "metadata": {
        "colab": {
          "base_uri": "https://localhost:8080/"
        },
        "id": "25Ur0FVOUPsI",
        "outputId": "7003899d-4942-4615-9528-8d9547422dc4"
      },
      "execution_count": 14,
      "outputs": [
        {
          "output_type": "execute_result",
          "data": {
            "text/plain": [
              "77"
            ]
          },
          "metadata": {},
          "execution_count": 14
        }
      ]
    },
    {
      "cell_type": "code",
      "source": [
        "#Save Results in a text file\n",
        "txt_file = open(\"countries_in_Asia.txt\", \"w\")\n",
        "\n",
        "for c in countries:\n",
        "  txt_file.write(str(c) + \"\\n\")\n",
        "  \n",
        "txt_file.close()"
      ],
      "metadata": {
        "id": "4LgiWPVQVEqo"
      },
      "execution_count": 15,
      "outputs": []
    },
    {
      "cell_type": "code",
      "source": [],
      "metadata": {
        "id": "Lcaa0qanxCRa"
      },
      "execution_count": null,
      "outputs": []
    }
  ]
}